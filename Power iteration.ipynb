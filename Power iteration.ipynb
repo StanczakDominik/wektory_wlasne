{
 "cells": [
  {
   "cell_type": "code",
   "execution_count": 34,
   "metadata": {
    "collapsed": false,
    "scrolled": false
   },
   "outputs": [
    {
     "name": "stdout",
     "output_type": "stream",
     "text": [
      "[ 0.57735027  0.57735027  0.57735027]\t0.796077821492\n",
      "[ 0.84515425  0.50709255 -0.16903085]\t0.385824197528\n",
      "[ 0.97629563  0.21223818  0.04244764]\t0.113965231702\n",
      "[ 0.99357922  0.11267393 -0.01024308]\t0.0616575900774\n",
      "[ 0.9986147   0.05255867  0.00250279]\t0.0261827754444\n",
      "[  9.99646417e-01   2.65830525e-02  -6.18210524e-04]\t0.0135539871968\n",
      "[  9.99914785e-01   1.30537178e-02   1.53573151e-04]\t0.00651254434133\n",
      "[  9.99978585e-01   6.54431237e-03  -3.82708326e-05]\t0.00328738801257\n",
      "[  9.99994695e-01   3.25731171e-03   9.55223375e-06]\t0.00162763708812\n",
      "[  9.99998672e-01   1.62972326e-03  -2.38612484e-06]\t0.000815795034484\n",
      "[  9.99999669e-01   8.13934290e-04   5.96288857e-07]\t0.000406901554781\n",
      "[  9.99999917e-01   4.07033494e-04  -1.49041924e-07]\t0.000203574793059\n",
      "[  9.99999979e-01   2.03458795e-04   3.72566921e-08]\t0.000101725268429\n",
      "[  9.99999995e-01   1.01733539e-04  -9.31369942e-09]\t5.08703927284e-05\n",
      "[  9.99999999e-01   5.08631475e-05   2.32836565e-09]\t2.54313152293e-05\n",
      "[  1.00000000e+00   2.54318325e-05  -5.82084011e-10]\t1.27161426393e-05\n",
      "[  1.00000000e+00   1.27156899e-05   1.45520077e-10]\t6.357828778e-06\n",
      "[  1.00000000e+00   6.35786111e-06  -3.63799037e-11]\t3.17894470488e-06\n",
      "[  1.00000000e+00   3.17891641e-06   9.09496147e-12]\t1.58945719404e-06\n",
      "[  1.00000000e+00   1.58945922e-06  -2.27373856e-12]\t7.94730491792e-07\n",
      "[  1.00000000e+00   7.94728723e-07   5.68434414e-13]\t3.97364298503e-07\n",
      "[  1.00000000e+00   3.97364425e-07  -1.42108575e-13]\t1.98682267675e-07\n",
      "[  1.00000000e+00   1.98682157e-07   3.55271403e-14]\t9.93410746257e-08\n",
      "[  1.00000000e+00   9.93410825e-08  -8.88178464e-15]\t4.96705447143e-08\n",
      "[  1.00000000e+00   4.96705378e-08   2.22044610e-15]\t2.48352686564e-08\n",
      "[  1.00000000e+00   2.48352691e-08  -5.55111519e-16]\t1.24176347908e-08\n",
      "4.00000001242\n"
     ]
    }
   ],
   "source": [
    "import numpy as np\n",
    "\n",
    "def norma_L2(x):                          #pomocnicza funkcyjka\n",
    "    kwadraty = x**2\n",
    "    suma_kwadratow = np.sum(kwadraty)\n",
    "    return np.sqrt(suma_kwadratow)\n",
    "\n",
    "\n",
    "a = np.array([[4,1,0],\n",
    "             [0,2,1],\n",
    "             [0,0,-1]], dtype=float)\n",
    "x = np.array([1.,1.,1.])\n",
    "x = x/norma_L2(x) #normalizuję do 1\n",
    "dokladnosc = 0.00000001\n",
    "\n",
    "#zaczynam iterować\n",
    "\n",
    "x_next = a@x / norma_L2(a@x)           #pierdyknij macierzą i znormalizuj do 1\n",
    "\n",
    "while(norma_L2(x_next - x) > dokladnosc):    #dopóki długość wektora różnicy naszych dwóch\n",
    "                                             #jest większa niż dokładność, patrz rysunek wykład str 21\n",
    "        \n",
    "    print(x, norma_L2(x_next-x), sep='\\t')   #jak wygląda nasz bieżący wektor?\n",
    "    x = x_next                               #wyrzucamy stary, przechodzimy do kolejnej\n",
    "    \n",
    "    x_next = a@x / norma_L2(a@x)       #pierdyknij macierzą i znormalizuj do 1\n",
    "\n",
    "    \n",
    "# Ax = lambda x\n",
    "# skoro ||x|| = 1 to ||Ax|| = ||lambda x|| = ||lambda|| ||x|| = ||lambda||\n",
    "# więc teraz jak długość x = 1 to długość Ax = lambda\n",
    "print(norma_L2(a@x))"
   ]
  },
  {
   "cell_type": "code",
   "execution_count": 32,
   "metadata": {
    "collapsed": false
   },
   "outputs": [
    {
     "name": "stdout",
     "output_type": "stream",
     "text": [
      "4.0\t[ 1.  0.  0.]\n",
      "2.0\t[-0.4472136   0.89442719  0.        ]\n",
      "-1.0\t[ 0.06311944 -0.3155972   0.9467916 ]\n"
     ]
    }
   ],
   "source": [
    "#dla porównania z analitycznym\n",
    "eigvals, eigvecs = np.linalg.eig(a)\n",
    "for val, vec in zip(eigvals, eigvecs.T):      #z jakiegoś powodu eig zwraca wektory w kolumnach\n",
    "    print(val, vec, sep = '\\t')\n",
    "\n",
    "#jak spojrzysz na ten pierwszy to zgadza się z tym co dostaliśmy"
   ]
  },
  {
   "cell_type": "code",
   "execution_count": null,
   "metadata": {
    "collapsed": true
   },
   "outputs": [],
   "source": []
  }
 ],
 "metadata": {
  "kernelspec": {
   "display_name": "Python 3",
   "language": "python",
   "name": "python3"
  },
  "language_info": {
   "codemirror_mode": {
    "name": "ipython",
    "version": 3
   },
   "file_extension": ".py",
   "mimetype": "text/x-python",
   "name": "python",
   "nbconvert_exporter": "python",
   "pygments_lexer": "ipython3",
   "version": "3.5.1"
  }
 },
 "nbformat": 4,
 "nbformat_minor": 0
}
