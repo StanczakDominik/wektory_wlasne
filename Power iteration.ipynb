{
 "cells": [
  {
   "cell_type": "code",
   "execution_count": 20,
   "metadata": {
    "collapsed": false,
    "scrolled": false
   },
   "outputs": [],
   "source": [
    "import numpy as np\n",
    "import matplotlib.pyplot as plt\n",
    "%matplotlib inline\n",
    "\n",
    "def norma_L2(x):                          #pomocnicza funkcyjka\n",
    "    kwadraty = x**2\n",
    "    suma_kwadratow = np.sum(kwadraty)\n",
    "    return np.sqrt(suma_kwadratow)\n",
    "\n",
    "\n",
    "a = np.array([[4,1,0],\n",
    "             [0,2,1],\n",
    "             [0,0,-1]], dtype=float)\n",
    "x = np.array([1.,1.,1.])\n",
    "x = x/norma_L2(x) #normalizuję do 1\n",
    "dokladnosc = 0.00000001\n"
   ]
  },
  {
   "cell_type": "code",
   "execution_count": 21,
   "metadata": {
    "collapsed": false
   },
   "outputs": [
    {
     "name": "stdout",
     "output_type": "stream",
     "text": [
      "[ 0.57735027  0.57735027  0.57735027]\t0.796077821492\n",
      "[ 0.84515425  0.50709255 -0.16903085]\t0.796077821492\n",
      "[ 0.57735027  0.57735027  0.57735027]\t1.41421356237\n",
      "[ -3.39934989e-17   7.07106781e-01  -7.07106781e-01]\t1.84775906502\n",
      "[ -1.20185168e-17   0.00000000e+00   1.00000000e+00]\t1.94365063162\n",
      "[-0.11111111  0.44444444 -0.88888889]\t1.98648633172\n",
      "[ 0.03030303 -0.24242424  0.96969697]\t1.99615003088\n",
      "[-0.08020655  0.34999221 -0.93331257]\t1.99905013192\n",
      "[ 0.05398351 -0.29784006  0.95308818]\t1.99975440722\n",
      "[-0.06772303  0.32433344 -0.94351545]\t1.99993882014\n",
      "[ 0.06078008 -0.31119401  0.9484008 ]\t1.99998457544\n",
      "[-0.06429124  0.31778982 -0.945979  ]\t1.99999614736\n",
      "[ 0.06253119 -0.3144987   0.94719608]\t1.99999903481\n",
      "[-0.0634137   0.31614589 -0.94658886]\t1.99999975876\n",
      "[ 0.06297216 -0.31532272  0.94689286]\t1.99999993966\n",
      "[-0.06319309  0.31573441 -0.94674095]\t1.99999998492\n",
      "[ 0.06308261 -0.31552859  0.94681693]\t1.99999999623\n",
      "[-0.06313786  0.31563151 -0.94677894]\t1.99999999906\n",
      "[ 0.06311023 -0.31558005  0.94679794]\t1.99999999976\n",
      "[-0.06312404  0.31560578 -0.94678844]\t1.99999999994\n",
      "[ 0.06311714 -0.31559291  0.94679319]\t1.99999999999\n",
      "[-0.06312059  0.31559935 -0.94679081]\t2.0\n",
      "[ 0.06311886 -0.31559613  0.946792  ]\t2.0\n",
      "[-0.06311973  0.31559774 -0.94679141]\t2.0\n",
      "[ 0.0631193  -0.31559693  0.9467917 ]\t2.0\n",
      "[-0.06311951  0.31559734 -0.94679156]\t2.0\n",
      "[ 0.0631194  -0.31559713  0.94679163]\t2.0\n",
      "[-0.06311946  0.31559724 -0.94679159]\t2.0\n",
      "[ 0.06311943 -0.31559718  0.94679161]\t2.0\n",
      "[-0.06311944  0.31559721 -0.9467916 ]\t2.0\n",
      "[ 0.06311944 -0.3155972   0.94679161]\t2.0\n",
      "[-0.99999997 -0.99999999 -1.        ]\n"
     ]
    },
    {
     "data": {
      "image/png": "[encoded data removed]",
      "text/plain": [
       "<matplotlib.figure.Figure at 0x7fdce8700358>"
      ]
     },
     "metadata": {},
     "output_type": "display_data"
    }
   ],
   "source": [
    "\n",
    "fig, axes = plt.subplots(figsize=(10,10))\n",
    "axes.set_xlabel('x')\n",
    "axes.set_ylabel('y')\n",
    "# axes.set_xlim(0,1.2)\n",
    "# axes.set_ylim(0,0.8)\n",
    "axes.quiver(0,0,x[0], x[1], scale_units='xy', scale=1, angles='xy', color='blue')\n",
    "x_next = a@x / norma_L2(a@x)           #pierdyknij macierzą i znormalizuj do 1\n",
    "difference = x_next - x\n",
    "\n",
    "iterations = 0\n",
    "while(norma_L2(difference) > dokladnosc):    #dopóki długość wektora różnicy naszych dwóch\n",
    "                                             #jest większa niż dokładność\n",
    "                                             #to jest ten czerwony wektor\n",
    "        \n",
    "    print(x, norma_L2(x_next-x), sep='\\t')   #jak wygląda nasz bieżący wektor?\n",
    "    \n",
    "    axes.quiver(x[0],x[1], difference[0], difference[1],scale_units='xy', scale=1, angles='xy', color='red')\n",
    "    axes.quiver(0,0,x_next[0], x_next[1], scale_units='xy', scale=1, angles='xy', color='blue')\n",
    "\n",
    "    x = x_next                               #wyrzucamy stary, przechodzimy do kolejnej \n",
    "    \n",
    "    x_temp = lu(a,x)\n",
    "    x_next = x_temp / norma_L2(x_temp)       #pierdyknij macierzą i znormalizuj do 1\n",
    "    difference = x_next - x\n",
    "    iterations += 1\n",
    "    if iterations > 30:\n",
    "        break\n",
    "# Ax = lambda x\n",
    "# skoro ||x|| = 1 to ||Ax|| = ||lambda x|| = ||lambda|| ||x|| = ||lambda||\n",
    "# więc teraz jak długość x = 1 to długość Ax = lambda\n",
    "print(lu(a,x)/x)"
   ]
  },
  {
   "cell_type": "code",
   "execution_count": 17,
   "metadata": {
    "collapsed": false
   },
   "outputs": [
    {
     "name": "stdout",
     "output_type": "stream",
     "text": [
      "0.25\t[ 1.  0.  0.]\n",
      "0.5\t[-0.4472136   0.89442719  0.        ]\n",
      "-1.0\t[ 0.06311944 -0.3155972   0.9467916 ]\n"
     ]
    }
   ],
   "source": [
    "#dla porównania z analitycznym\n",
    "eigvals, eigvecs = np.linalg.eig(np.linalg.inv(a))\n",
    "for val, vec in zip(eigvals, eigvecs.T):      #z jakiegoś powodu eig zwraca wektory w kolumnach\n",
    "    print(val, vec, sep = '\\t')\n",
    "\n",
    "#jak spojrzysz na ten pierwszy to zgadza się z tym co dostaliśmy"
   ]
  },
  {
   "cell_type": "code",
   "execution_count": null,
   "metadata": {
    "collapsed": true
   },
   "outputs": [],
   "source": [
    "axes.quiver?"
   ]
  },
  {
   "cell_type": "code",
   "execution_count": null,
   "metadata": {
    "collapsed": false
   },
   "outputs": [],
   "source": [
    "np.linalg.inv(a)@[1,1,1]"
   ]
  },
  {
   "cell_type": "code",
   "execution_count": 15,
   "metadata": {
    "collapsed": false
   },
   "outputs": [
    {
     "data": {
      "text/plain": [
       "array([ 0.        ,  0.57735027, -0.57735027])"
      ]
     },
     "execution_count": 15,
     "metadata": {},
     "output_type": "execute_result"
    }
   ],
   "source": [
    "from scipy.linalg import lu_solve, lu_factor\n",
    "def lu(a, b):\n",
    "    lu_matrix, piv = lu_factor(a)\n",
    "    return lu_solve((lu_matrix, piv), b)"
   ]
  },
  {
   "cell_type": "code",
   "execution_count": 14,
   "metadata": {
    "collapsed": true
   },
   "outputs": [],
   "source": [
    "lu_factor?"
   ]
  },
  {
   "cell_type": "code",
   "execution_count": null,
   "metadata": {
    "collapsed": true
   },
   "outputs": [],
   "source": []
  }
 ],
 "metadata": {
  "kernelspec": {
   "display_name": "Python 3",
   "language": "python",
   "name": "python3"
  },
  "language_info": {
   "codemirror_mode": {
    "name": "ipython",
    "version": 3
   },
   "file_extension": ".py",
   "mimetype": "text/x-python",
   "name": "python",
   "nbconvert_exporter": "python",
   "pygments_lexer": "ipython3",
   "version": "3.5.1"
  }
 },
 "nbformat": 4,
 "nbformat_minor": 0
}
