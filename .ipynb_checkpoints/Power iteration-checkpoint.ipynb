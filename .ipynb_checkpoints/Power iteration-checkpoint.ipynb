{
 "cells": [
  {
   "cell_type": "code",
   "execution_count": 1,
   "metadata": {
    "collapsed": false,
    "scrolled": false
   },
   "outputs": [
    {
     "ename": "AttributeError",
     "evalue": "module 'numpy' has no attribute 'inv'",
     "output_type": "error",
     "traceback": [
      "\u001b[1;31m---------------------------------------------------------------------------\u001b[0m",
      "\u001b[1;31mAttributeError\u001b[0m                            Traceback (most recent call last)",
      "\u001b[1;32m<ipython-input-1-e91fa97f22f8>\u001b[0m in \u001b[0;36m<module>\u001b[1;34m()\u001b[0m\n\u001b[0;32m     17\u001b[0m \u001b[1;33m\u001b[0m\u001b[0m\n\u001b[0;32m     18\u001b[0m \u001b[1;31m#zaczynam iterować\u001b[0m\u001b[1;33m\u001b[0m\u001b[1;33m\u001b[0m\u001b[0m\n\u001b[1;32m---> 19\u001b[1;33m \u001b[0minvA\u001b[0m \u001b[1;33m=\u001b[0m \u001b[0mnp\u001b[0m\u001b[1;33m.\u001b[0m\u001b[0minv\u001b[0m\u001b[1;33m(\u001b[0m\u001b[0ma\u001b[0m\u001b[1;33m)\u001b[0m\u001b[1;33m\u001b[0m\u001b[0m\n\u001b[0m\u001b[0;32m     20\u001b[0m \u001b[0mprint\u001b[0m\u001b[1;33m(\u001b[0m\u001b[0minvA\u001b[0m\u001b[1;33m)\u001b[0m\u001b[1;33m\u001b[0m\u001b[0m\n\u001b[0;32m     21\u001b[0m \u001b[1;33m\u001b[0m\u001b[0m\n",
      "\u001b[1;31mAttributeError\u001b[0m: module 'numpy' has no attribute 'inv'"
     ]
    }
   ],
   "source": [
    "import numpy as np\n",
    "import matplotlib.pyplot as plt\n",
    "%matplotlib inline\n",
    "\n",
    "def norma_L2(x):                          #pomocnicza funkcyjka\n",
    "    kwadraty = x**2\n",
    "    suma_kwadratow = np.sum(kwadraty)\n",
    "    return np.sqrt(suma_kwadratow)\n",
    "\n",
    "\n",
    "a = np.array([[4,1,0],\n",
    "             [0,2,1],\n",
    "             [0,0,-1]], dtype=float)\n",
    "x = np.array([1.,1.,1.])\n",
    "x = x/norma_L2(x) #normalizuję do 1\n",
    "dokladnosc = 0.00000001\n",
    "\n",
    "#zaczynam iterować\n",
    "invA = np.inv(a)\n",
    "print(invA)\n",
    "\n",
    "\n",
    "fig, axes = plt.subplots(figsize=(10,10))\n",
    "axes.set_xlabel('x')\n",
    "axes.set_ylabel('y')\n",
    "axes.set_xlim(0,1.2)\n",
    "axes.set_ylim(0,0.8)\n",
    "axes.quiver(0,0,x[0], x[1], scale_units='xy', scale=1, angles='xy', color='blue')\n",
    "x_next = a@x / norma_L2(a@x)           #pierdyknij macierzą i znormalizuj do 1\n",
    "difference = x_next - x\n",
    "\n",
    "while(norma_L2(difference) > dokladnosc):    #dopóki długość wektora różnicy naszych dwóch\n",
    "                                             #jest większa niż dokładność\n",
    "                                             #to jest ten czerwony wektor\n",
    "        \n",
    "    print(x, norma_L2(x_next-x), sep='\\t')   #jak wygląda nasz bieżący wektor?\n",
    "    \n",
    "    axes.quiver(x[0],x[1], difference[0], difference[1],scale_units='xy', scale=1, angles='xy', color='red')\n",
    "    axes.quiver(0,0,x_next[0], x_next[1], scale_units='xy', scale=1, angles='xy', color='blue')\n",
    "\n",
    "    x = x_next                               #wyrzucamy stary, przechodzimy do kolejnej \n",
    "    \n",
    "    x_temp = np.linalg\n",
    "    x_next = a@x / norma_L2(a@x)       #pierdyknij macierzą i znormalizuj do 1\n",
    "    difference = x_next - x\n",
    "    \n",
    "# Ax = lambda x\n",
    "# skoro ||x|| = 1 to ||Ax|| = ||lambda x|| = ||lambda|| ||x|| = ||lambda||\n",
    "# więc teraz jak długość x = 1 to długość Ax = lambda\n",
    "print(norma_L2(a@x))"
   ]
  },
  {
   "cell_type": "code",
   "execution_count": 32,
   "metadata": {
    "collapsed": false
   },
   "outputs": [
    {
     "name": "stdout",
     "output_type": "stream",
     "text": [
      "4.0\t[ 1.  0.  0.]\n",
      "2.0\t[-0.4472136   0.89442719  0.        ]\n",
      "-1.0\t[ 0.06311944 -0.3155972   0.9467916 ]\n"
     ]
    }
   ],
   "source": [
    "#dla porównania z analitycznym\n",
    "eigvals, eigvecs = np.linalg.eig(a)\n",
    "for val, vec in zip(eigvals, eigvecs.T):      #z jakiegoś powodu eig zwraca wektory w kolumnach\n",
    "    print(val, vec, sep = '\\t')\n",
    "\n",
    "#jak spojrzysz na ten pierwszy to zgadza się z tym co dostaliśmy"
   ]
  },
  {
   "cell_type": "code",
   "execution_count": 61,
   "metadata": {
    "collapsed": true
   },
   "outputs": [],
   "source": [
    "axes.quiver?"
   ]
  },
  {
   "cell_type": "code",
   "execution_count": 6,
   "metadata": {
    "collapsed": false
   },
   "outputs": [
    {
     "data": {
      "text/plain": [
       "array([ 0.,  1., -1.])"
      ]
     },
     "execution_count": 6,
     "metadata": {},
     "output_type": "execute_result"
    }
   ],
   "source": [
    "np.linalg.inv(a)@[1,1,1]"
   ]
  },
  {
   "cell_type": "code",
   "execution_count": null,
   "metadata": {
    "collapsed": true
   },
   "outputs": [],
   "source": []
  }
 ],
 "metadata": {
  "kernelspec": {
   "display_name": "Python 3",
   "language": "python",
   "name": "python3"
  },
  "language_info": {
   "codemirror_mode": {
    "name": "ipython",
    "version": 3
   },
   "file_extension": ".py",
   "mimetype": "text/x-python",
   "name": "python",
   "nbconvert_exporter": "python",
   "pygments_lexer": "ipython3",
   "version": "3.5.1"
  }
 },
 "nbformat": 4,
 "nbformat_minor": 0
}
