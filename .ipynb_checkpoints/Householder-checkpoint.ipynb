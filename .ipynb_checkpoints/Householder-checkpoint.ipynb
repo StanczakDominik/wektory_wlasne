{
 "cells": [
  {
   "cell_type": "markdown",
   "metadata": {},
   "source": [
    "# Rozkład Householdera\n",
    "\n",
    "Za [Wikipedią](https://en.wikipedia.org/wiki/QR_decomposition#Using_Householder_reflections)"
   ]
  },
  {
   "cell_type": "code",
   "execution_count": 2,
   "metadata": {
    "collapsed": false
   },
   "outputs": [
    {
     "name": "stdout",
     "output_type": "stream",
     "text": [
      "iteration 0\n",
      "[ 6.  2. -2.]\n",
      "iteration 1\n",
      "[ 7.42857143 -0.42857143 -1.        ]\n",
      "iteration 2\n",
      "[ 7.47107438 -2.47107438  1.        ]\n",
      "iteration 3\n",
      "[ 7.46181172 -1.81565788  0.35384615]\n",
      "iteration 4\n",
      "[ 7.46469168 -2.04918473  0.58449304]\n",
      "iteration 5\n",
      "[ 7.4639417  -1.98675858  0.52281688]\n",
      "iteration 6\n",
      "[ 7.46414434 -2.00354459  0.53940025]\n",
      "iteration 7\n",
      "[ 7.46409016 -1.99904996  0.53495981]\n",
      "iteration 8\n",
      "[ 7.46410468 -2.00025454  0.53614986]\n",
      "iteration 9\n",
      "[ 7.46410079 -1.99993179  0.535831  ]\n",
      "iteration 10\n",
      "[ 7.46410184 -2.00001828  0.53591644]\n",
      "iteration 11\n",
      "[ 7.46410156 -1.9999951   0.53589355]\n",
      "iteration 12\n",
      "[ 7.46410163 -2.00000131  0.53589968]\n",
      "iteration 13\n",
      "[ 7.46410161 -1.99999965  0.53589804]\n",
      "iteration 14\n",
      "[ 7.46410161 -2.00000009  0.53589848]\n",
      "iteration 15\n",
      "[ 7.46410161 -1.99999997  0.53589836]\n",
      "iteration 16\n",
      "[ 7.46410161 -2.          0.53589839]\n",
      "iteration 17\n",
      "[ 7.46410161 -1.99999999  0.53589838]\n",
      "iteration 18\n",
      "[ 7.46410161 -1.99999999  0.53589838]\n",
      "iteration 19\n",
      "[ 7.46410161 -1.99999999  0.53589838]\n",
      "faktyczne eigsy\n",
      "[[  1.00000000e+00   0.00000000e+00   0.00000000e+00]\n",
      " [  0.00000000e+00  -1.00000000e+00  -4.73218899e-11]\n",
      " [  0.00000000e+00   4.73218899e-11  -1.00000000e+00]]\n",
      "[[  7.46410161e+00   6.33974660e-01  -1.58139253e-01]\n",
      " [ -6.38258978e-08   1.99999999e+00  -2.36073467e+00]\n",
      " [  2.42986815e-15  -8.24954245e-10  -5.35898384e-01]]\n",
      "[ 7.46410162  0.53589838 -2.        ]\n"
     ]
    }
   ],
   "source": [
    "import numpy as np\n",
    "\n",
    "def norm(x):\n",
    "    return np.sqrt(np.sum(x**2))\n",
    "\n",
    "A = np.array([[1., 2., -1.],[1,4,5],[1,4,1]])\n",
    "n, n = A.shape\n",
    "current_A = A.copy()#kopia robocza\n",
    "for j in range(20): #możnaby wykombinować jakiś warunek na zbieżność ale mi się w cholerę nie chce\n",
    "    backup_A= current_A.copy()          #druga kopia robocza\n",
    "    print(\"iteration {}\".format(j))\n",
    "    Q = np.eye(n)\n",
    "    for i in range(n-1):\n",
    "        cur_A = current_A[i:,i:] #biorę minor (search \"Now observe:\" na wiki)\n",
    "        x = cur_A[:,0].reshape((n-i, 1)) #biorę pierwszą kolumnę z minora\n",
    "        \n",
    "        e = np.zeros((n-i, 1))           #tworzę wektor jednostkowy...\n",
    "        e[0] = 1.                        #zerujący bieżący pierwszy element minora\n",
    "        \n",
    "        u = x - norm(x)*e                #tworzę wektor u\n",
    "        v = u/norm(u)                    #normalizuję wektor u\n",
    "        \n",
    "        Q_i = np.eye(n-i)-2*v@v.T        #tworzę i-tą macierz Q rozmiaru bieżącego minora\n",
    "        \n",
    "        Q_fill = np.eye(n)               #tworzę i-tą macierz Q pełnego rozmiaru\n",
    "        Q_fill[i:,i:]=Q_i                #uzupełnioną w lewym górnym jedynkami\n",
    "                \n",
    "        Q = Q@Q_fill                     #kontynuuję budowę pełnej macierzy Q\n",
    "        current_A = Q_fill@current_A     #https://upload.wikimedia.org/math/9/d/8/9d82239d57d58c6dc58ae0679d6330fc.png\n",
    "\n",
    "    R = Q.T@backup_A                     #https://upload.wikimedia.org/math/5/9/8/5982a2083169bbfb2959611774d6666c.png\n",
    "    current_A = R@Q                      #A_k = Q@R, A_k+1 = R@Q\n",
    "    \n",
    "    diagonal = np.arange(n)              #robię wektor indeksów do sczytania diagonali\n",
    "    print(current_A[diagonal, diagonal])         #czytam diagonalę, tam powinny być mniej więcej eigenki\n",
    "print(\"faktyczne eigsy\")\n",
    "\n",
    "print(Q)\n",
    "print(R)\n",
    "print(np.linalg.eigvals(A))"
   ]
  },
  {
   "cell_type": "code",
   "execution_count": null,
   "metadata": {
    "collapsed": true
   },
   "outputs": [],
   "source": []
  }
 ],
 "metadata": {
  "kernelspec": {
   "display_name": "Python 3",
   "language": "python",
   "name": "python3"
  },
  "language_info": {
   "codemirror_mode": {
    "name": "ipython",
    "version": 3
   },
   "file_extension": ".py",
   "mimetype": "text/x-python",
   "name": "python",
   "nbconvert_exporter": "python",
   "pygments_lexer": "ipython3",
   "version": "3.5.1"
  }
 },
 "nbformat": 4,
 "nbformat_minor": 0
}
