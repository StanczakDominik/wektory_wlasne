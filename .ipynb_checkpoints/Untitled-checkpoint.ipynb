{
 "cells": [
  {
   "cell_type": "code",
   "execution_count": 25,
   "metadata": {
    "collapsed": false,
    "scrolled": true
   },
   "outputs": [
    {
     "data": {
      "text/plain": [
       "[<matplotlib.lines.Line2D at 0x7f9e92417320>]"
      ]
     },
     "execution_count": 25,
     "metadata": {},
     "output_type": "execute_result"
    },
    {
     "data": {
      "image/png": "[encoded data removed]",
      "text/plain": [
       "<matplotlib.figure.Figure at 0x7f9e928dfc50>"
      ]
     },
     "metadata": {},
     "output_type": "display_data"
    }
   ],
   "source": [
    "import numpy as np\n",
    "import matplotlib.pyplot as plt\n",
    "%matplotlib inline\n",
    "xi = np.array([1,2,4,5,7])\n",
    "yi = np.array([52,5,-5,-40,10])\n",
    "x = np.linspace(0,8,1000)\n",
    "n = len(xi)\n",
    "A = np.zeros((n,n))\n",
    "A[0,:] = yi\n",
    "\n",
    "for i in range(1,n):\n",
    "    for j in range(n-i):\n",
    "        A[i,j] = (A[i-1, j+1] - A[i-1, j])/(xi[j+i] - xi[j])\n",
    "        \n",
    "y = 0\n",
    "for i in range(n):\n",
    "    tymczasowy_wektor = A[i,0]\n",
    "    for j in range(i):\n",
    "#         print(A[i,0], xi[j])\n",
    "        tymczasowy_wektor *= x - xi[j]\n",
    "    y += tymczasowy_wektor\n",
    "plt.plot(x, y)\n",
    "plt.plot(xi, yi, \"ro\")"
   ]
  },
  {
   "cell_type": "code",
   "execution_count": null,
   "metadata": {
    "collapsed": true
   },
   "outputs": [],
   "source": []
  },
  {
   "cell_type": "markdown",
   "metadata": {},
   "source": []
  }
 ],
 "metadata": {
  "kernelspec": {
   "display_name": "Python 3",
   "language": "python",
   "name": "python3"
  },
  "language_info": {
   "codemirror_mode": {
    "name": "ipython",
    "version": 3
   },
   "file_extension": ".py",
   "mimetype": "text/x-python",
   "name": "python",
   "nbconvert_exporter": "python",
   "pygments_lexer": "ipython3",
   "version": "3.5.1"
  }
 },
 "nbformat": 4,
 "nbformat_minor": 0
}
